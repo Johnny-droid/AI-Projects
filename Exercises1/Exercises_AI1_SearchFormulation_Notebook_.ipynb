{
  "cells": [
    {
      "cell_type": "markdown",
      "metadata": {},
      "source": [
        "# Artificial Intelligence\n",
        "## L.EIC – 3rd Year/2nd Semester\n",
        "### Exercise Sheet 1\n",
        "# Solving Problems by Searching"
      ]
    },
    {
      "cell_type": "markdown",
      "metadata": {},
      "source": [
        "## The Two Buckets Problem\n",
        "\n",
        "<img src=\"https://qph.cf2.quoracdn.net/main-qimg-45726b16b460cae0147ae8ca245a8fb0-pjlq\" width=\"250px\" height=\"250px\" align=\"right\">\n",
        "\n",
        "Two buckets of capacities **c1** (e.g. 4 liters) and **c2** (e.g. 3 liters), respectively, are initially empty. The buckets do not have any intermediate markings. The only operations you can perform are:\n",
        "\n",
        "- Fill (completely) a bucket \n",
        "- Empty a bucket.\n",
        "- Pour one bucket into the other (until the target one is full or the source one is empty).\n",
        "\n",
        "The aim is to determine which operations to carry out so that the first bucket contains exactly **n** liters (e.g. 2 litres)."
      ]
    },
    {
      "cell_type": "markdown",
      "metadata": {},
      "source": [
        "Formulate this problem as a search problem by defining the state representation, initial state, operators (their name, preconditions, effects, and cost), and objective test."
      ]
    },
    {
      "cell_type": "raw",
      "metadata": {},
      "source": [
        "State representation (w1, w2)\n",
        "Initial State (0, 0)\n",
        "Objective State { (2, 0), (2, 1), (2, 2), (2, 3) }\n",
        "Operations -> Fill 1        w1 < 4          w1 = 4  cost = 1 for every operation\n",
        "              Fill 2        w2 < 3          w2 = 3  \n",
        "              Empty 1       w1 > 0          w1 = 0\n",
        "              Empty 2       w2 > 0          w2 = 0\n",
        "    Fits      Pour a 1 2    w1 + w2 < 3 && w1 > 0 && w2 < 3  w1 = w1 + w2\n",
        "              Pour a 2 1    w2 + w1 < 4 && w2 > 0 && w1 < 4  w2 = w1 + w2\n",
        "Some is left  Pour b 1 2    w1 > 0  && w2 < 3\n",
        "              Pour b 2 1    w2 > 0  && w1 < 4\n",
        "\n"
      ]
    },
    {
      "cell_type": "markdown",
      "metadata": {},
      "source": [
        "What is the size of the state space for this problem? Represent the state space by drawing the possible objective states and displaying some of the possible transitions from the initial state."
      ]
    },
    {
      "cell_type": "raw",
      "metadata": {},
      "source": [
        "The size it's 5 * 4 = 20\n",
        "\n",
        "(0, 0)  -> Fill1 ->  (4, 0)\n",
        "        -> Fill2 ->  (0, 3)\n",
        " \n"
      ]
    },
    {
      "cell_type": "markdown",
      "metadata": {},
      "source": [
        "Solve the problem by hand, using tree search. What solutions have you found?"
      ]
    },
    {
      "cell_type": "raw",
      "metadata": {},
      "source": [
        "(0, 0)  ->Fill1->  (4, 0)  ->Pourb12->  (1, 3)  ->Empty2->  (1, 0)  ->Poura12->  (0, 1)  ->Fill1-> (4, 1) ->Pourb12 -> (2, 3)\n",
        "\n",
        "\n",
        "        ->Fill2->  (0, 3) -> ...\n"
      ]
    },
    {
      "cell_type": "markdown",
      "metadata": {},
      "source": [
        "### Buildind a computational approach to handle the problem\n",
        "\n",
        "To build a program to solve the buckets problem, we will implement a solution that separates the problem definition from the algorithms used to traverse the state space. This way, we can reuse our implementations of the search strategies in other problems."
      ]
    },
    {
      "cell_type": "markdown",
      "metadata": {},
      "source": [
        "#### Representing the two buckets problem as a search problem\n",
        "\n",
        "Let's start by defining a state for the buckets problem. For that, it'll suffice to aggregate two quantities, each representing the amount of water in one of the buckets. We also define a way of printing the state."
      ]
    },
    {
      "cell_type": "code",
      "execution_count": 1,
      "metadata": {
        "trusted": true
      },
      "outputs": [],
      "source": [
        "class BucketState:\n",
        "    c1 = 4   # capacity for bucket 1\n",
        "    c2 = 3   # capacity for bucket 2\n",
        "    \n",
        "    def __init__(self, b1, b2):\n",
        "        self.b1 = b1\n",
        "        self.b2 = b2\n",
        "\n",
        "    '''needed for the visited list'''\n",
        "    def __eq__(self, other):\n",
        "        if isinstance(other, self.__class__):\n",
        "            return self.__dict__ == other.__dict__\n",
        "        else:\n",
        "            return False\n",
        "\n",
        "    def __ne__(self, other):\n",
        "        \"\"\"Overrides the default implementation (unnecessary in Python 3)\"\"\"\n",
        "        return not self.__eq__(other)\n",
        "    \n",
        "    def __hash__(self):\n",
        "        return hash((self.b1, self.b2)) \n",
        "    ''' - '''\n",
        "\n",
        "    def __str__(self):\n",
        "        return \"(\" + str(self.b1) + \", \" + str(self.b2) + \")\""
      ]
    },
    {
      "cell_type": "markdown",
      "metadata": {},
      "source": [
        "Now we define each of the operators on states:"
      ]
    },
    {
      "cell_type": "code",
      "execution_count": 2,
      "metadata": {
        "trusted": true
      },
      "outputs": [],
      "source": [
        "# emptying the first bucket\n",
        "def empty1(state):\n",
        "    if state.b1 > 0:\n",
        "        return BucketState(0, state.b2)\n",
        "    return None\n",
        "\n",
        "# emptying the second bucket\n",
        "def empty2(state):\n",
        "    # your code here\n",
        "    if state.b2 > 0:\n",
        "        return BucketState(state.b1, 0)\n",
        "    return None\n",
        "    \n",
        "\n",
        "# your code here\n",
        "def fill1(state):\n",
        "    if state.b1 < state.c1:\n",
        "        return BucketState(state.c1, state.b2)\n",
        "    return None\n",
        "\n",
        "def fill2(state):\n",
        "    if state.b2 < state.c2:\n",
        "        return BucketState(state.b1, state.c2)\n",
        "    return None\n",
        "\n",
        "def pour12_empty1(state):\n",
        "    if (state.b1 > 0) and (state.b2 < state.c2) and (state.b1 + state.b2 <= state.c2):\n",
        "        return BucketState(0, state.b1 + state.b2)\n",
        "    return None\n",
        "\n",
        "def pour21_empty2(state):\n",
        "    if (state.b2 > 0) and (state.b1 < state.c1) and (state.b1 + state.b2 <= state.c1):\n",
        "        return BucketState(state.b1 + state.b2, 0)\n",
        "    return None\n",
        "\n",
        "def pour12_fill2(state):\n",
        "    if (state.b1 > 0) and (state.b2 < state.c2):\n",
        "        if (state.b1 + state.b2 > state.c2):\n",
        "            return BucketState( state.b1 + state.b2 - state.c2, state.c2)\n",
        "        return BucketState(0, state.b1 + state.b2)\n",
        "\n",
        "def pour21_fill1(state):\n",
        "    if (state.b2 > 0) and (state.b1 < state.c1):\n",
        "        if (state.b1 + state.b2 > state.c1):\n",
        "            return BucketState(state.c1,  state.b1 + state.b2 - state.c1)\n",
        "        return BucketState(state.b1 + state.b2, 0)\n",
        "\n"
      ]
    },
    {
      "cell_type": "markdown",
      "metadata": {},
      "source": [
        "The following function will aggregate all states that can be generated from a given one:"
      ]
    },
    {
      "cell_type": "code",
      "execution_count": 3,
      "metadata": {
        "trusted": true
      },
      "outputs": [],
      "source": [
        "def child_bucket_states(state):\n",
        "    new_states = []\n",
        "    if(empty1(state)):\n",
        "        new_states.append(empty1(state))\n",
        "    if(empty2(state)):\n",
        "        new_states.append(empty2(state))\n",
        "    if(fill1(state)):\n",
        "        new_states.append(fill1(state))\n",
        "    if(fill2(state)):\n",
        "        new_states.append(fill2(state))\n",
        "    if(pour12_fill2(state)):\n",
        "        new_states.append(pour12_fill2(state))\n",
        "    if(pour12_empty1(state)):\n",
        "        new_states.append(pour12_empty1(state))\n",
        "    if(pour21_fill1(state)):\n",
        "        new_states.append(pour21_fill1(state))\n",
        "    if(pour21_empty2(state)):\n",
        "        new_states.append(pour21_empty2(state))\n",
        "    return new_states"
      ]
    },
    {
      "cell_type": "markdown",
      "metadata": {},
      "source": [
        "Play around with the state transition operators and check if they are working properly:"
      ]
    },
    {
      "cell_type": "code",
      "execution_count": 4,
      "metadata": {
        "trusted": true
      },
      "outputs": [
        {
          "name": "stdout",
          "output_type": "stream",
          "text": [
            "(1, 3)\n",
            "(4, 0)\n",
            "(0, 3)\n"
          ]
        }
      ],
      "source": [
        "s = BucketState(0, 0)\n",
        "s = fill1(s)\n",
        "s = pour12_fill2(s)\n",
        "print(s)\n",
        "\n",
        "states = child_bucket_states(BucketState(0, 0))\n",
        "for i in range(len(states)):\n",
        "    print(states[i])\n",
        "\n",
        "# your code here\n"
      ]
    },
    {
      "cell_type": "markdown",
      "metadata": {},
      "source": [
        "Finally, we need to define the goal condition:"
      ]
    },
    {
      "cell_type": "code",
      "execution_count": 5,
      "metadata": {
        "trusted": true
      },
      "outputs": [],
      "source": [
        "def goal_bucket_state(state):\n",
        "    # your code here\n",
        "    if (state.b1 == 2):\n",
        "        return True\n",
        "    return False"
      ]
    },
    {
      "cell_type": "markdown",
      "metadata": {},
      "source": [
        "Test your goal condition:"
      ]
    },
    {
      "cell_type": "code",
      "execution_count": 6,
      "metadata": {
        "trusted": true
      },
      "outputs": [
        {
          "name": "stdout",
          "output_type": "stream",
          "text": [
            "True\n",
            "False\n"
          ]
        }
      ],
      "source": [
        "# your code here\n",
        "state = BucketState(2, 1)\n",
        "print( goal_bucket_state(state) )\n",
        "\n",
        "state = BucketState(1, 3)\n",
        "print( goal_bucket_state(state) )\n"
      ]
    },
    {
      "cell_type": "markdown",
      "metadata": {},
      "source": [
        "#### Implementing search algorithms\n",
        "\n",
        "Let us start by defining an appropriate structure to represent a node in a search tree. Each tree node will include:\n",
        "- a state of the problem\n",
        "- a link to its parent (to allow traveling from a leaf node towards the root of the tree)\n",
        "- a list of child nodes"
      ]
    },
    {
      "cell_type": "code",
      "execution_count": 7,
      "metadata": {
        "trusted": true
      },
      "outputs": [],
      "source": [
        "# A generic definition of a tree node holding a state of the problem\n",
        "class TreeNode:\n",
        "    def __init__(self, state, parent=None):\n",
        "        self.state = state\n",
        "        self.parent = parent\n",
        "        self.children = []\n",
        "        if self.parent is None:\n",
        "            self.depth = 0\n",
        "            self.cost = 0\n",
        "        else:\n",
        "            self.depth = self.parent.depth + 1\n",
        "            \n",
        "\n",
        "    def add_child(self, child_node):\n",
        "        self.children.append(child_node)\n",
        "        child_node.parent = self\n",
        "    \n",
        "    "
      ]
    },
    {
      "cell_type": "markdown",
      "metadata": {},
      "source": [
        "##### Breadth-first search\n",
        "\n",
        "Based on this structure, we can now implement breadth-first search. Note that we want the implementation to be independent of the problem at hand (in this case, the two buckets problem)."
      ]
    },
    {
      "cell_type": "code",
      "execution_count": 8,
      "metadata": {
        "trusted": true
      },
      "outputs": [],
      "source": [
        "from collections import deque\n",
        "\n",
        "def breadth_first_search(initial_state, goal_state_func, operators_func):\n",
        "    root = TreeNode(initial_state)   # create the root node in the search tree\n",
        "    queue = deque([root])   # initialize the queue to store the nodes\n",
        "    \n",
        "    while queue:\n",
        "        node = queue.popleft()   # get first element in the queue\n",
        "        if goal_state_func(node.state):   # check goal state\n",
        "            return node\n",
        "        \n",
        "        for state in operators_func(node.state):   # go through next states\n",
        "            # create tree node with the new state\n",
        "            # your code here\n",
        "            child = TreeNode(state, node)\n",
        "            \n",
        "            # link child node to its parent in the tree\n",
        "            # your code here\n",
        "            # child.parent = node  this is done in the constructor so it's not needed here\n",
        "            \n",
        "            # enqueue the child node\n",
        "            # your code here\n",
        "            queue.append(child)\n",
        "            \n",
        "\n",
        "    return None"
      ]
    },
    {
      "cell_type": "markdown",
      "metadata": {},
      "source": [
        "We can now use this function to actually perform a breadth-first search on the buckets problem: we pass it the initial state, our goal condition function, and the function for obtaining child states."
      ]
    },
    {
      "cell_type": "code",
      "execution_count": 9,
      "metadata": {
        "trusted": true
      },
      "outputs": [
        {
          "name": "stdout",
          "output_type": "stream",
          "text": [
            "(2, 3)\n"
          ]
        }
      ],
      "source": [
        "goal = breadth_first_search(BucketState(0,0), \n",
        "                            goal_bucket_state, \n",
        "                            child_bucket_states)\n",
        "print(goal.state)"
      ]
    },
    {
      "cell_type": "markdown",
      "metadata": {},
      "source": [
        "In order to print the actual steps from the initial state to the last, we can take advantage of each node's link to its parent."
      ]
    },
    {
      "cell_type": "code",
      "execution_count": 10,
      "metadata": {
        "trusted": true
      },
      "outputs": [],
      "source": [
        "def print_solution(node):\n",
        "    # your code here\n",
        "    print(node.state)\n",
        "\n",
        "    if (node.parent != None):\n",
        "        return print_solution(node.parent)"
      ]
    },
    {
      "cell_type": "markdown",
      "metadata": {},
      "source": [
        "Now we can print the solution:"
      ]
    },
    {
      "cell_type": "code",
      "execution_count": 11,
      "metadata": {
        "trusted": true
      },
      "outputs": [
        {
          "name": "stdout",
          "output_type": "stream",
          "text": [
            "(2, 3)\n",
            "(4, 1)\n",
            "(0, 1)\n",
            "(1, 0)\n",
            "(1, 3)\n",
            "(4, 0)\n",
            "(0, 0)\n"
          ]
        }
      ],
      "source": [
        "print_solution(goal)"
      ]
    },
    {
      "cell_type": "markdown",
      "metadata": {},
      "source": [
        "If we need a description for each of the employed operators, we could have each operation function return also such a description, and modify the TreeNode class so that each node also includes a description of the edge to get there. We leave that as an exercise after class."
      ]
    },
    {
      "cell_type": "markdown",
      "metadata": {},
      "source": [
        "##### Depth-first search\n",
        "\n",
        "Implement depth-first search (again, in a manner that is independent of the problem at hand). You can start from your breadth-first search implementation and with minor changes get an implementation for depth-first search."
      ]
    },
    {
      "cell_type": "code",
      "execution_count": 12,
      "metadata": {
        "trusted": true
      },
      "outputs": [],
      "source": [
        "def depth_first_search(initial_state, goal_state_func, operators_func):\n",
        "    # your code here\n",
        "    root = TreeNode(initial_state)\n",
        "    stack = deque([root])\n",
        "    states_visited = set()  \n",
        "\n",
        "    while stack:\n",
        "        node = stack.pop()\n",
        "        if goal_state_func(node.state):\n",
        "            return node\n",
        "\n",
        "        for state in operators_func(node.state):\n",
        "            if state in states_visited:\n",
        "                continue\n",
        "            child = TreeNode(state, node)\n",
        "            stack.append(child)\n",
        "            states_visited.add(state)\n",
        "\n",
        "# I used a set of states visited to avoid infinite loops, but the most efficient way would probably be to \n",
        "# check if a certain state had a parent that was equal to itself, which would mean that it was a loop\n",
        "# If it was done that way, the set of states visited would not be needed, hence it would be more efficient in terms of memory usage"
      ]
    },
    {
      "cell_type": "markdown",
      "metadata": {},
      "source": [
        "Test it on the two buckets problem."
      ]
    },
    {
      "cell_type": "code",
      "execution_count": 13,
      "metadata": {
        "trusted": true
      },
      "outputs": [
        {
          "name": "stdout",
          "output_type": "stream",
          "text": [
            "(2, 0)\n",
            "(0, 2)\n",
            "(4, 2)\n",
            "(3, 3)\n",
            "(3, 0)\n",
            "(0, 3)\n",
            "(0, 0)\n"
          ]
        }
      ],
      "source": [
        "# your code here\n",
        "\n",
        "goal = depth_first_search(BucketState(0,0), goal_bucket_state, child_bucket_states)\n",
        "\n",
        "print_solution(goal)\n"
      ]
    },
    {
      "cell_type": "markdown",
      "metadata": {},
      "source": [
        "If you are unable to get a solution, think about it: depth-first search is not a complete search method, and one of the reasons for that is if the state space contains cycles. As such, you need to make sure you avoid entering into a cycle by keeping a visited nodes list or set and checking that list whenever you generate a new state."
      ]
    },
    {
      "cell_type": "markdown",
      "metadata": {},
      "source": [
        "##### Depth-limited search\n",
        "\n",
        "Another way to make it work is to impose a depth limit to the problem. Implement depth-limited search."
      ]
    },
    {
      "cell_type": "code",
      "execution_count": 14,
      "metadata": {
        "trusted": true
      },
      "outputs": [],
      "source": [
        "def depth_limited_search(initial_state, goal_state_func, operators_func, depth_limit):\n",
        "    # your code here\n",
        "    \n",
        "    root = TreeNode(initial_state)\n",
        "    stack = deque([root])\n",
        "\n",
        "    while stack:\n",
        "        node = stack.pop()\n",
        "        if goal_state_func(node.state):\n",
        "            return node\n",
        "\n",
        "        if node.depth < depth_limit:\n",
        "            for state in operators_func(node.state):\n",
        "                child = TreeNode(state, node)\n",
        "                stack.append(child)"
      ]
    },
    {
      "cell_type": "markdown",
      "metadata": {},
      "source": [
        "Test it on the two buckets problem."
      ]
    },
    {
      "cell_type": "code",
      "execution_count": 15,
      "metadata": {
        "trusted": true
      },
      "outputs": [
        {
          "name": "stdout",
          "output_type": "stream",
          "text": [
            "(2, 0)\n",
            "(0, 2)\n",
            "(4, 2)\n",
            "(3, 3)\n",
            "(3, 0)\n",
            "(0, 3)\n",
            "(0, 0)\n"
          ]
        }
      ],
      "source": [
        "# your code here\n",
        "goal = depth_limited_search(BucketState(0,0), goal_bucket_state, child_bucket_states, 6)\n",
        "\n",
        "print_solution(goal)\n"
      ]
    },
    {
      "cell_type": "markdown",
      "metadata": {},
      "source": [
        "##### Iterative deepening search\n",
        "\n",
        "Based on depth-limited, you can easily implement iterative-deepening search."
      ]
    },
    {
      "cell_type": "code",
      "execution_count": 16,
      "metadata": {
        "trusted": true
      },
      "outputs": [],
      "source": [
        "def iterative_deepening_search(initial_state, goal_state_func, operators_func, depth_limit):\n",
        "    # your code here\n",
        "    \n",
        "    for i in range(depth_limit):\n",
        "        goal = depth_limited_search(initial_state, goal_state_func, operators_func, i)\n",
        "        if goal != None:\n",
        "            return goal\n",
        "        \n",
        "    "
      ]
    },
    {
      "cell_type": "markdown",
      "metadata": {},
      "source": [
        "Again, test it on the two buckets problem."
      ]
    },
    {
      "cell_type": "code",
      "execution_count": 17,
      "metadata": {
        "trusted": true
      },
      "outputs": [
        {
          "name": "stdout",
          "output_type": "stream",
          "text": [
            "(2, 0)\n",
            "(0, 2)\n",
            "(4, 2)\n",
            "(3, 3)\n",
            "(3, 0)\n",
            "(0, 3)\n",
            "(0, 0)\n"
          ]
        }
      ],
      "source": [
        "# your code here\n",
        "goal = iterative_deepening_search(BucketState(0,0), goal_bucket_state, child_bucket_states, 10)\n",
        "\n",
        "print_solution(goal)"
      ]
    },
    {
      "cell_type": "markdown",
      "metadata": {},
      "source": [
        "##### Greedy search\n",
        "\n",
        "Start by defining an heuristic function and implement the Greedy Search algorithm (independent of the problem at hand)"
      ]
    },
    {
      "cell_type": "code",
      "execution_count": 18,
      "metadata": {
        "trusted": true
      },
      "outputs": [],
      "source": [
        "def heuristic_bucket(node):\n",
        "    # heuristic function for the bucket filling problem\n",
        "    \n",
        "    # your code here\n",
        "    \n",
        "    return abs(node.state.b1 - 2)  # + abs(node.state.b2 - 0)"
      ]
    },
    {
      "cell_type": "code",
      "execution_count": 19,
      "metadata": {
        "trusted": true
      },
      "outputs": [],
      "source": [
        "def greedy_search(initial_state, goal_state_func, operators_func, heuristic_func):\n",
        "    # your code here\n",
        "    \n",
        "    root = TreeNode(initial_state)\n",
        "    queue = deque([root])\n",
        "    states_visited = set()\n",
        "\n",
        "    while queue:\n",
        "        node = queue.popleft()\n",
        "        if goal_state_func(node.state):\n",
        "            return node\n",
        "\n",
        "        for state in operators_func(node.state):\n",
        "            if state in states_visited:\n",
        "                continue\n",
        "            child = TreeNode(state, node)\n",
        "            child.heuristic = heuristic_func(child)\n",
        "            states_visited.add(state)\n",
        "            queue.append(child)\n",
        "            queue = deque(sorted(queue, key=lambda x: x.heuristic))\n",
        "\n",
        "\n",
        "    \n"
      ]
    },
    {
      "cell_type": "markdown",
      "metadata": {},
      "source": [
        "Test it on the two buckets problem."
      ]
    },
    {
      "cell_type": "code",
      "execution_count": 20,
      "metadata": {
        "trusted": true
      },
      "outputs": [
        {
          "name": "stdout",
          "output_type": "stream",
          "text": [
            "(2, 3)\n",
            "(4, 1)\n",
            "(0, 1)\n",
            "(1, 0)\n",
            "(1, 3)\n",
            "(4, 0)\n",
            "(0, 0)\n"
          ]
        }
      ],
      "source": [
        "# your code here\n",
        "goal = greedy_search(BucketState(0,0), goal_bucket_state, child_bucket_states, heuristic_bucket)\n",
        "\n",
        "print_solution(goal)"
      ]
    },
    {
      "cell_type": "markdown",
      "metadata": {},
      "source": [
        "##### A* Algorithm\n",
        "\n",
        "Reuse the heuristic function defined before. This is very similar to greedy search, the difference is that it takes into account the cost of the path so far"
      ]
    },
    {
      "cell_type": "code",
      "execution_count": 21,
      "metadata": {
        "trusted": true
      },
      "outputs": [],
      "source": [
        "def a_star_search(initial_state, goal_state_func, operators_func, heuristic):\n",
        "    # your code here\n",
        "    \n",
        "    root = TreeNode(initial_state)\n",
        "    queue = deque([root])\n",
        "    states_visited = set()\n",
        "\n",
        "    while queue:\n",
        "        node = queue.popleft()\n",
        "        if goal_state_func(node.state):\n",
        "            return node\n",
        "\n",
        "        for state in operators_func(node.state):\n",
        "            if state in states_visited:\n",
        "                continue\n",
        "            child = TreeNode(state, node)\n",
        "            child.heuristic = heuristic(child)\n",
        "            child.cost = node.cost + 1\n",
        "            states_visited.add(state)\n",
        "            queue.append(child)\n",
        "            queue = deque(sorted(queue, key=lambda x: x.heuristic + x.cost)) "
      ]
    },
    {
      "cell_type": "markdown",
      "metadata": {},
      "source": [
        "Again, test it on the two buckets problem."
      ]
    },
    {
      "cell_type": "code",
      "execution_count": 22,
      "metadata": {
        "trusted": true
      },
      "outputs": [
        {
          "name": "stdout",
          "output_type": "stream",
          "text": [
            "(2, 3)\n",
            "(4, 1)\n",
            "(0, 1)\n",
            "(1, 0)\n",
            "(1, 3)\n",
            "(4, 0)\n",
            "(0, 0)\n"
          ]
        }
      ],
      "source": [
        "# your code here\n",
        "\n",
        "goal = a_star_search(BucketState(0,0), goal_bucket_state, child_bucket_states, heuristic_bucket)\n",
        "\n",
        "print_solution(goal)"
      ]
    },
    {
      "cell_type": "markdown",
      "metadata": {},
      "source": [
        "## The Missionaries and Cannibals Problem \n",
        "\n",
        "<img src=\"https://www.gamezkingdom.com/content/images/thumbs/0002926_missionaries-and-cannibals.jpeg\" width=\"250px\" height=\"250px\" align=\"right\">\n",
        "\n",
        "Three missionaries and three cannibals are on one of the banks of the river with a boat that only takes one or two people. The boat cannot travel the river alone.\n",
        "\n",
        "The goal is to find a way to get the six to the other bank of the river without ever leaving more cannibals than missionaries on one of the banks (even at the instant they leave/join the boat) during the process."
      ]
    },
    {
      "cell_type": "markdown",
      "metadata": {},
      "source": [
        "Formulate this problem as a search problem by defining the state representation, initial state, operators (their name, preconditions, effects, and cost), and objective test."
      ]
    },
    {
      "cell_type": "raw",
      "metadata": {},
      "source": [
        "\n",
        "State representation (m1, c1, m2, c2, B)\n",
        "Initial State (3, 3, 0, 0, 1)\n",
        "\n",
        "Objective State { (0, 0, 3, 3, 0) }\n",
        "\n",
        "(Needs to include the conditions where a cannibals can be alone without any missionaries) \n",
        "Operations -> 1 Person\n",
        "            Move Missionary 1 to 2    m1 > 0 && m1-1 >= c1 && B == 1   m1 = m1 - 1, m2 = m2 + 1, B = 0\n",
        "            Move Missionary 2 to 1    m2 > 0 && m2-1 >= c2 && B == 0   m2 = m2 - 1, m1 = m1 + 1, B = 1\n",
        "            Move Cannibal 1 to 2      c1 > 0 && m2 >= c2+1 && B == 1   c1 = c1 - 1, c2 = c2 + 1, B = 0\n",
        "            Move Cannibal 2 to 1      c2 > 0 && m1 >= c1+1 && B == 0   c2 = c2 - 1, c1 = c1 + 1, B = 1\n",
        "\n",
        "            -> 2 People\n",
        "            Move Missionary 1 to 2    m1 > 1 && m1-2 >= c1 && B == 1   m1 = m1 - 2, m2 = m2 + 2, B = 0\n",
        "            Move Missionary 2 to 1    m2 > 1 && m2-2 >= c2 && B == 0   m2 = m2 - 2, m1 = m1 + 2, B = 1\n",
        "            Move Cannibal 1 to 2      c1 > 1 && m2 >= c2+2 && B == 1   c1 = c1 - 2, c2 = c2 + 2, B = 0\n",
        "            Move Cannibal 2 to 1      c2 > 1 && m1 >= c1+2 && B == 0   c2 = c2 - 2, c1 = c1 + 2, B = 1\n",
        "            Move Both 1 to 2          m1 > 0 && c1 > 0 && B == 1       m1 = m1 - 1, c1 = c1 - 1, m2 = m2 + 1, c2 = c2 + 1, B = 0\n",
        "            Move Both 2 to 1          m2 > 0 && c2 > 0 && B == 0       m2 = m2 - 1, c2 = c2 - 1, m1 = m1 + 1, c1 = c1 + 1, B = 1"
      ]
    },
    {
      "cell_type": "markdown",
      "metadata": {},
      "source": [
        "Solve the problem by hand, using tree search. What solutions have you found?"
      ]
    },
    {
      "cell_type": "raw",
      "metadata": {},
      "source": [
        "(3, 3, 0, 0, 1) -> (2, 2, 1, 1, 0) -> (3, 2, 0, 1, 1) -> (3, 0, 0, 2, 0) -> (3, 1, 0, 1, 1) \n",
        "\n"
      ]
    },
    {
      "cell_type": "markdown",
      "metadata": {},
      "source": [
        "Represent the problem as a search problem and take advantage of the implemented search algorithms to find solutions!"
      ]
    },
    {
      "cell_type": "code",
      "execution_count": 23,
      "metadata": {
        "trusted": true
      },
      "outputs": [
        {
          "name": "stdout",
          "output_type": "stream",
          "text": [
            "(3, 3, 0, 0, 1)\n",
            "(3, 1, 0, 2, 0)\n",
            "(3, 2, 0, 1, 1)\n",
            "(3, 0, 0, 3, 0)\n",
            "(3, 1, 0, 2, 1)\n",
            "(1, 1, 2, 2, 0)\n",
            "(2, 2, 1, 1, 1)\n",
            "(0, 2, 3, 1, 0)\n",
            "(0, 3, 3, 0, 1)\n",
            "(0, 1, 3, 2, 0)\n",
            "(1, 1, 2, 2, 1)\n",
            "(0, 0, 3, 3, 0)\n"
          ]
        }
      ],
      "source": [
        "class MissionariesState:\n",
        "    \n",
        "    def __init__(self, m1, c1, m2, c2, boat):\n",
        "        self.m1 = m1\n",
        "        self.c1 = c1\n",
        "        self.m2 = m2\n",
        "        self.c2 = c2\n",
        "        self.boat = boat\n",
        "\n",
        "    '''needed for the visited list'''\n",
        "    def __eq__(self, other):\n",
        "        if isinstance(other, self.__class__):\n",
        "            return self.__dict__ == other.__dict__\n",
        "        else:\n",
        "            return False\n",
        "\n",
        "    def __ne__(self, other):\n",
        "        \"\"\"Overrides the default implementation (unnecessary in Python 3)\"\"\"\n",
        "        return not self.__eq__(other)\n",
        "    \n",
        "    def __hash__(self):\n",
        "        return hash((self.m1, self.c1, self.m2, self.c2, self.boat)) \n",
        "    ''' - '''\n",
        "\n",
        "    def __str__(self):\n",
        "        return \"(\" + str(self.m1) + \", \" + str(self.c1) + \", \" + str(self.m2) + \", \" + str(self.c2) + \", \" + str(self.boat) + \")\"\n",
        "\n",
        "\n",
        "def move_missionary_1_2(state):\n",
        "    if state.m1 > 0 and (state.m1-1 >= state.c1 or state.m1-1 == 0) and (state.m2+1 >= state.c2) and state.boat == 1:\n",
        "        return MissionariesState(state.m1-1, state.c1, state.m2+1, state.c2, 0)\n",
        "    return None\n",
        "\n",
        "def move_missionary_2_1(state):\n",
        "    if state.m2 > 0 and (state.m2-1 >= state.c2 or state.m2-1 == 0) and (state.m1+1 >= state.c1) and state.boat == 0:\n",
        "        return MissionariesState(state.m1+1, state.c1, state.m2-1, state.c2, 1)\n",
        "    return None\n",
        "\n",
        "def move_cannibal_1_2(state):\n",
        "    if state.c1 > 0 and (state.m2 >= state.c2 + 1 or state.m2 == 0) and state.boat == 1:\n",
        "        return MissionariesState(state.m1, state.c1-1, state.m2, state.c2+1, 0)\n",
        "    return None\n",
        "\n",
        "def move_cannibal_2_1(state):\n",
        "    if state.c2 > 0 and (state.m1 >= state.c1 + 1 or state.m1 == 0) and state.boat == 0:\n",
        "        return MissionariesState(state.m1, state.c1+1, state.m2, state.c2-1, 1)\n",
        "    return None\n",
        "\n",
        "def move_2_missionaries_1_2(state):\n",
        "    if state.m1 > 1 and (state.m1-2 >= state.c1 or state.m1-2 == 0) and state.boat == 1:\n",
        "        return MissionariesState(state.m1-2, state.c1, state.m2+2, state.c2, 0)\n",
        "    return None\n",
        "\n",
        "def move_2_missionaries_2_1(state):\n",
        "    if state.m2 > 1 and (state.m2-2 >= state.c2 or state.m2-2 == 0) and state.boat == 0:\n",
        "        return MissionariesState(state.m1+2, state.c1, state.m2-2, state.c2, 1)\n",
        "    return None\n",
        "\n",
        "def move_2_cannibals_1_2(state):\n",
        "    if state.c1 > 1 and (state.m2 >= state.c2 + 2 or state.m2 == 0) and state.boat == 1:\n",
        "        return MissionariesState(state.m1, state.c1-2, state.m2, state.c2+2, 0)\n",
        "    return None\n",
        "\n",
        "def move_2_cannibals_2_1(state):\n",
        "    if state.c2 > 1 and (state.m1 >= state.c1 + 2 or state.m1 == 0) and state.boat == 0:\n",
        "        return MissionariesState(state.m1, state.c1+2, state.m2, state.c2-2, 1)\n",
        "    return None\n",
        "\n",
        "def move_both_1_2(state):\n",
        "    if state.m1 > 0 and state.c1 > 0 and state.m2 >= state.c2 and state.boat == 1:\n",
        "        return MissionariesState(state.m1-1, state.c1-1, state.m2+1, state.c2+1, 0)\n",
        "    return None\n",
        "\n",
        "def move_both_2_1(state):\n",
        "    if state.m2 > 0 and state.c2 > 0 and state.m1 >= state.c1 and state.boat == 0:\n",
        "        return MissionariesState(state.m1+1, state.c1+1, state.m2-1, state.c2-1, 1)\n",
        "    return None\n",
        "\n",
        "def child_missionaries_states(state):\n",
        "    new_states = []\n",
        "    if (move_missionary_1_2(state)):\n",
        "        new_states.append(move_missionary_1_2(state))\n",
        "    \n",
        "    if (move_missionary_2_1(state)):\n",
        "        new_states.append(move_missionary_2_1(state))\n",
        "    \n",
        "    if (move_cannibal_1_2(state)):\n",
        "        new_states.append(move_cannibal_1_2(state))\n",
        "\n",
        "    if (move_cannibal_2_1(state)):\n",
        "        new_states.append(move_cannibal_2_1(state))\n",
        "    \n",
        "    if (move_2_missionaries_1_2(state)):\n",
        "        new_states.append(move_2_missionaries_1_2(state))\n",
        "\n",
        "    if (move_2_missionaries_2_1(state)):\n",
        "        new_states.append(move_2_missionaries_2_1(state))\n",
        "    \n",
        "    if (move_2_cannibals_1_2(state)):\n",
        "        new_states.append(move_2_cannibals_1_2(state))\n",
        "    \n",
        "    if (move_2_cannibals_2_1(state)):\n",
        "        new_states.append(move_2_cannibals_2_1(state))\n",
        "\n",
        "    if (move_both_1_2(state)):\n",
        "        new_states.append(move_both_1_2(state))\n",
        "    \n",
        "    if (move_both_2_1(state)):\n",
        "        new_states.append(move_both_2_1(state))\n",
        "\n",
        "    return new_states\n",
        "\n",
        "\n",
        "def goal_missionaries_state(state):\n",
        "    return state.m2 == 3 and state.c2 == 3 and state.m1 == 0 and state.c1 == 0 and state.boat == 0\n",
        "\n",
        "def print_solution_missionaries(node):\n",
        "    if (node.parent != None):\n",
        "        print_solution_missionaries(node.parent)\n",
        "        print(node.state)\n",
        "    else:\n",
        "        print(node.state)\n",
        "\n",
        "def heuristic_missionaries(node):\n",
        "    return node.state.m1 + node.state.c1\n",
        "\n",
        "\n",
        "# goal = breadth_first_search(MissionariesState(3, 3, 0, 0, 1), goal_missionaries_state, child_missionaries_states)\n",
        "\n",
        "# goal = depth_first_search(MissionariesState(3, 3, 0, 0, 1), goal_missionaries_state, child_missionaries_states)\n",
        "\n",
        "# goal = iterative_deepening_search(MissionariesState(3, 3, 0, 0, 1), goal_missionaries_state, child_missionaries_states, 10)\n",
        "\n",
        "# goal = greedy_search(MissionariesState(3, 3, 0, 0, 1), goal_missionaries_state, child_missionaries_states, heuristic_missionaries)\n",
        "\n",
        "goal = a_star_search(MissionariesState(3, 3, 0, 0, 1), goal_missionaries_state, child_missionaries_states, heuristic_missionaries)\n",
        "\n",
        "print_solution_missionaries(goal)\n"
      ]
    },
    {
      "cell_type": "markdown",
      "metadata": {},
      "source": [
        "## N-Puzzle Problem\n",
        "\n",
        "The objective of this exercise is the application of search methods, with emphasis on informed\n",
        "search methods and the A\\* algorithm, to solve the well-known N-Puzzle problem. The desired\n",
        "objective self for the puzzle is as follows (0 represents the empty space):\n",
        "\n",
        "<table>\n",
        "<tr><th>9Puzzle</th><th>16Puzzle</th></tr>\n",
        "<tr>\n",
        "<td>\n",
        "\n",
        "|     |     |     |\n",
        "| --- | --- | --- |\n",
        "| 1   | 2   | 3   |\n",
        "| 4   | 5   | 6   |\n",
        "| 7   | 8   | 0   |\n",
        "\n",
        "\n",
        "</td>\n",
        "<td>\n",
        "\n",
        "|     |     |     |     |\n",
        "| --- | --- | --- | --- |\n",
        "| 1   | 2   | 3   | 4   |\n",
        "| 5   | 6   | 7   | 8   |\n",
        "| 9   | 10  | 11  | 12  |\n",
        "| 13  | 14  | 15  | 0   |\n",
        "\n",
        "</td>\n",
        "</tr>\n",
        "</table>\n",
        "\n",
        "Starting from a given initial state, the goal is to determine which operations to perform to\n",
        "solve the puzzle, reaching the desired objective self."
      ]
    },
    {
      "cell_type": "markdown",
      "metadata": {},
      "source": [
        "Formulate this problem as a search problem by defining the state representation, initial state, operators (their name, preconditions, effects, and cost), and objective test."
      ]
    },
    {
      "cell_type": "raw",
      "metadata": {},
      "source": [
        "State representation: list of lists (3x3 or 4x4)\n",
        "Initial State: any state that has each number one single time and 0.\n",
        "\n",
        "Objective State: {[[1, 2, 3], [4, 5, 6], [7, 8, 0]], [[1, 2, 3, 4], [5, 6, 7, 8], [9, 10, 11, 12], [13, 14, 15, 0]]}\n",
        "\n",
        "Operations->\n",
        "    Move 0 up    0 is not in the first row\n",
        "    Move 0 down  0 is not in the last row\n",
        "    Move 0 left  0 is not in the first column\n",
        "    Move 0 right 0 is not in the last column\n"
      ]
    },
    {
      "cell_type": "markdown",
      "metadata": {},
      "source": [
        "Represent the problem as a search problem and take advantage of the implemented search algorithms to find solutions!\n",
        "\n",
        "For the Greedy Search and the A* Algorithm suppose the following heuristics for these methods:\n",
        "- H1 - Number of incorrect placed pieces;\n",
        "- H2 - Sum of manhattan distances from incorrect placed pieces to their correct places. \n",
        "\n",
        "Finally Compare the results obtained concerning execution time and memory space occupied in solving the following problems using the previous methods\n",
        "\n",
        "<table>\n",
        "<tr><th>Prob. 1</th><th>Prob. 2</th><th>Prob. 3</th><th>Prob. 4</th></tr>\n",
        "<tr>\n",
        "<td>\n",
        "\n",
        "|     |     |     |\n",
        "| --- | --- | --- |\n",
        "| 1   | 2   | 3   |\n",
        "| 5   | 0   | 6   |\n",
        "| 4   | 7   | 8   | \n",
        "\n",
        "</td>\n",
        "<td>\n",
        "\n",
        "|     |     |     |\n",
        "| --- | --- | --- |\n",
        "| 1   | 3   | 6   |\n",
        "| 5   | 2   | 0   |\n",
        "| 4   | 7   | 8   | \n",
        "\n",
        "</td>\n",
        "<td>\n",
        "\n",
        "|     |     |     |\n",
        "| --- | --- | --- |\n",
        "| 1   | 6   | 2   |\n",
        "| 5   | 7   | 3   |\n",
        "| 0   | 4   | 8   | \n",
        "\n",
        "</td>\n",
        "<td>\n",
        "\n",
        "|     |     |     |     |\n",
        "| --- | --- | --- | --- |\n",
        "| 5   | 1   | 3   | 4   |\n",
        "| 2   | 0   | 7   | 8   |\n",
        "| 10  | 6   | 11  | 12  |\n",
        "| 9   | 13  | 14  | 15  |\n",
        "\n",
        "</td>\n",
        "</tr>\n",
        "</table>"
      ]
    },
    {
      "cell_type": "code",
      "execution_count": 38,
      "metadata": {
        "trusted": true
      },
      "outputs": [
        {
          "name": "stdout",
          "output_type": "stream",
          "text": [
            "[5, 1, 3, 4]\n",
            "[2, 0, 7, 8]\n",
            "[10, 6, 11, 12]\n",
            "[9, 13, 14, 15]\n",
            "\n",
            "[5, 1, 3, 4]\n",
            "[2, 6, 7, 8]\n",
            "[10, 0, 11, 12]\n",
            "[9, 13, 14, 15]\n",
            "\n",
            "[5, 1, 3, 4]\n",
            "[2, 6, 7, 8]\n",
            "[0, 10, 11, 12]\n",
            "[9, 13, 14, 15]\n",
            "\n",
            "[5, 1, 3, 4]\n",
            "[2, 6, 7, 8]\n",
            "[9, 10, 11, 12]\n",
            "[0, 13, 14, 15]\n",
            "\n",
            "[5, 1, 3, 4]\n",
            "[2, 6, 7, 8]\n",
            "[9, 10, 11, 12]\n",
            "[13, 0, 14, 15]\n",
            "\n",
            "[5, 1, 3, 4]\n",
            "[2, 6, 7, 8]\n",
            "[9, 10, 11, 12]\n",
            "[13, 14, 0, 15]\n",
            "\n",
            "[5, 1, 3, 4]\n",
            "[2, 6, 7, 8]\n",
            "[9, 10, 0, 12]\n",
            "[13, 14, 11, 15]\n",
            "\n",
            "[5, 1, 3, 4]\n",
            "[2, 6, 7, 8]\n",
            "[9, 0, 10, 12]\n",
            "[13, 14, 11, 15]\n",
            "\n",
            "[5, 1, 3, 4]\n",
            "[2, 0, 7, 8]\n",
            "[9, 6, 10, 12]\n",
            "[13, 14, 11, 15]\n",
            "\n",
            "[5, 1, 3, 4]\n",
            "[0, 2, 7, 8]\n",
            "[9, 6, 10, 12]\n",
            "[13, 14, 11, 15]\n",
            "\n",
            "[0, 1, 3, 4]\n",
            "[5, 2, 7, 8]\n",
            "[9, 6, 10, 12]\n",
            "[13, 14, 11, 15]\n",
            "\n",
            "[1, 0, 3, 4]\n",
            "[5, 2, 7, 8]\n",
            "[9, 6, 10, 12]\n",
            "[13, 14, 11, 15]\n",
            "\n",
            "[1, 2, 3, 4]\n",
            "[5, 0, 7, 8]\n",
            "[9, 6, 10, 12]\n",
            "[13, 14, 11, 15]\n",
            "\n",
            "[1, 2, 3, 4]\n",
            "[5, 6, 7, 8]\n",
            "[9, 0, 10, 12]\n",
            "[13, 14, 11, 15]\n",
            "\n",
            "[1, 2, 3, 4]\n",
            "[5, 6, 7, 8]\n",
            "[9, 10, 0, 12]\n",
            "[13, 14, 11, 15]\n",
            "\n",
            "[1, 2, 3, 4]\n",
            "[5, 6, 7, 8]\n",
            "[9, 10, 11, 12]\n",
            "[13, 14, 0, 15]\n",
            "\n",
            "[1, 2, 3, 4]\n",
            "[5, 6, 7, 8]\n",
            "[9, 10, 11, 12]\n",
            "[13, 14, 15, 0]\n",
            "\n"
          ]
        }
      ],
      "source": [
        "# the following arrays represent the problem for testing\n",
        "import copy\n",
        "\n",
        "# 5x5 board is too long to solve\n",
        "initial_states = [\n",
        "    [[1, 2, 3], [5, 0, 6], [4, 7, 8]],\n",
        "    [[1, 3, 6], [5, 2, 0], [4, 7, 8]],\n",
        "    [[1, 6, 2], [5, 7, 3], [0, 4, 8]],\n",
        "    [[5, 1, 3, 4], [2, 0, 7, 8], [10, 6, 11, 12], [9, 13, 14, 15]],\n",
        "    [[3, 2, 1, 6, 5], [4, 14, 8, 7, 10], [9, 18, 0, 12, 15], [13, 22, 19, 23, 16], [17, 21, 24, 20, 11]],\n",
        "    [[1, 2, 3, 4, 5], [6, 7, 8, 9, 10], [11, 12, 13, 14, 15], [16, 17, 0, 18, 19], [21, 22, 23, 24, 20]]\n",
        "    \n",
        "]\n",
        "\n",
        "class NPuzzleState:\n",
        "    \n",
        "    def __init__(self, board):\n",
        "        self.board = board\n",
        "        \n",
        "\n",
        "    '''needed for the visited list'''\n",
        "    def __eq__(self, other):\n",
        "        if isinstance(other, self.__class__):\n",
        "            return self.__dict__ == other.__dict__\n",
        "        else:\n",
        "            return False\n",
        "\n",
        "    def __ne__(self, other):\n",
        "        \"\"\"Overrides the default implementation (unnecessary in Python 3)\"\"\"\n",
        "        return not self.__eq__(other)\n",
        "    \n",
        "    def __hash__(self):\n",
        "        return hash(str(self.board)) \n",
        "    ''' - '''\n",
        "\n",
        "    def __str__(self):\n",
        "        board_string = \"\"\n",
        "        for row in self.board:\n",
        "            board_string += str(row) + \"\\n\"\n",
        "        return board_string\n",
        "\n",
        "\n",
        "def move_zero_up(state):\n",
        "    for i in range(len(state.board)):\n",
        "        for j in range(len(state.board[i])):\n",
        "            if (state.board[i][j] == 0) and (i > 0):\n",
        "                new_board = copy.deepcopy(state.board)\n",
        "                new_board[i][j] = new_board[i-1][j]\n",
        "                new_board[i-1][j] = 0\n",
        "                return NPuzzleState(new_board)\n",
        "    return None\n",
        "\n",
        "def move_zero_down(state):\n",
        "    for i in range(len(state.board)):\n",
        "        for j in range(len(state.board[i])):\n",
        "            if (state.board[i][j] == 0) and (i < (len(state.board)-1)):\n",
        "                new_board = copy.deepcopy(state.board)\n",
        "                new_board[i][j] = new_board[i+1][j]\n",
        "                new_board[i+1][j] = 0\n",
        "                return NPuzzleState(new_board)\n",
        "    return None\n",
        "\n",
        "def move_zero_left(state):\n",
        "    for i in range(len(state.board)):\n",
        "        for j in range(len(state.board[i])):\n",
        "            if (state.board[i][j] == 0) and (j > 0):\n",
        "                new_board = copy.deepcopy(state.board)\n",
        "                new_board[i][j] = new_board[i][j-1]\n",
        "                new_board[i][j-1] = 0\n",
        "                return NPuzzleState(new_board)\n",
        "    return None\n",
        "\n",
        "def move_zero_right(state):\n",
        "    for i in range(len(state.board)):\n",
        "        for j in range(len(state.board[i])):\n",
        "            if (state.board[i][j] == 0) and (j < (len(state.board[i])-1)):\n",
        "                new_board = copy.deepcopy(state.board)\n",
        "                new_board[i][j] = new_board[i][j+1]\n",
        "                new_board[i][j+1] = 0\n",
        "                return NPuzzleState(new_board)\n",
        "    return None\n",
        "\n",
        "def child_npuzzle_states(state):\n",
        "    new_states = []\n",
        "    if (move_zero_up(state)):\n",
        "        new_states.append(move_zero_up(state))\n",
        "    if (move_zero_down(state)):\n",
        "        new_states.append(move_zero_down(state))\n",
        "    if (move_zero_left(state)):\n",
        "        new_states.append(move_zero_left(state))\n",
        "    if (move_zero_right(state)):\n",
        "        new_states.append(move_zero_right(state))\n",
        "    return new_states\n",
        "\n",
        "def goal_npuzzle_state(state):\n",
        "    for i in range(len(state.board)):\n",
        "        for j in range(len(state.board[i])):\n",
        "            if (state.board[i][j] == 0):\n",
        "                continue\n",
        "            if (state.board[i][j] != (i*len(state.board[i])+j+1)):\n",
        "                return False\n",
        "    return True        \n",
        "    \n",
        "    \n",
        "def print_solution_npuzzle(node):\n",
        "    if (node.parent != None):\n",
        "        print_solution_npuzzle(node.parent)\n",
        "        print(node.state)\n",
        "    else:\n",
        "        print(node.state)\n",
        "\n",
        "def heuristic_npuzzle1(node):\n",
        "    state = node.state\n",
        "    counter = 0\n",
        "    for i in range(len(state.board)):\n",
        "        for j in range(len(state.board[i])):\n",
        "            if (state.board[i][j] == 0):\n",
        "                continue\n",
        "            if (state.board[i][j] != (i*len(state.board[i])+j+1)):\n",
        "                counter += 1\n",
        "    return counter\n",
        "\n",
        "def heuristic_npuzzle2(node):\n",
        "    state = node.state\n",
        "    counter = 0\n",
        "    for i in range(len(state.board)):\n",
        "        for j in range(len(state.board[i])):\n",
        "            x = state.board[i][j] \n",
        "            if (x == 0):\n",
        "                continue\n",
        "            if (x != (i*len(state.board[i])+j+1)):\n",
        "                correct_pos_i = x % len(state.board[i])\n",
        "                correct_pos_j = x // len(state.board[i])\n",
        "                counter += abs(correct_pos_i - i) + abs(correct_pos_j - j)\n",
        "    return counter\n",
        "    \n",
        "    \n",
        "# Breath First Search -> initial_states[2] 2.4s  and initial_states[3] 28.7s\n",
        "# goal = breadth_first_search(NPuzzleState(initial_states[3]), goal_npuzzle_state, child_npuzzle_states)\n",
        "\n",
        "# goal = depth_first_search(NPuzzleState(initial_states[0]), goal_npuzzle_state, child_npuzzle_states)\n",
        "\n",
        "# goal = iterative_deepening_search(NPuzzleState(initial_states[0]), goal_npuzzle_state, child_npuzzle_states, 11)\n",
        "\n",
        "# goal = greedy_search(NPuzzleState(initial_states[0]), goal_npuzzle_state, child_npuzzle_states, heuristic_npuzzle1)\n",
        "\n",
        "# goal = greedy_search(NPuzzleState(initial_states[0]), goal_npuzzle_state, child_npuzzle_states, heuristic_npuzzle2)\n",
        "\n",
        "# A Star Search 1st heuristic: initial_states[2] 0.1s  and initial_states[3] 0.1s\n",
        "# goal = a_star_search(NPuzzleState(initial_states[4]), goal_npuzzle_state, child_npuzzle_states, heuristic_npuzzle1)\n",
        "\n",
        "# A Star Search 2nd heuristic: initial_states[2] and initial_states[3] just as fast as the first heuristic\n",
        "goal = a_star_search(NPuzzleState(initial_states[3]), goal_npuzzle_state, child_npuzzle_states, heuristic_npuzzle2)\n",
        "\n",
        "print_solution_npuzzle(goal)\n"
      ]
    },
    {
      "cell_type": "code",
      "execution_count": null,
      "metadata": {
        "trusted": true
      },
      "outputs": [],
      "source": [
        "# your code here\n"
      ]
    }
  ],
  "metadata": {
    "kernelspec": {
      "display_name": "Python 3",
      "language": "python",
      "name": "python3"
    },
    "language_info": {
      "codemirror_mode": {
        "name": "ipython",
        "version": 3
      },
      "file_extension": ".py",
      "mimetype": "text/x-python",
      "name": "python",
      "nbconvert_exporter": "python",
      "pygments_lexer": "ipython3",
      "version": "3.10.6"
    },
    "vscode": {
      "interpreter": {
        "hash": "916dbcbb3f70747c44a77c7bcd40155683ae19c65e1c03b4aa3499c5328201f1"
      }
    }
  },
  "nbformat": 4,
  "nbformat_minor": 4
}
